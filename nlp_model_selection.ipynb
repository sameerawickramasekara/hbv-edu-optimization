{
 "cells": [
  {
   "cell_type": "code",
   "execution_count": 1,
   "id": "976067d7-c240-4455-a009-f4cacd6cacb3",
   "metadata": {},
   "outputs": [],
   "source": [
    "import numpy as np\n",
    "import pandas as pd\n",
    "from sklearn.feature_extraction.text import TfidfVectorizer\n",
    "from sklearn.linear_model import LogisticRegression\n",
    "from sklearn.metrics import classification_report, accuracy_score\n",
    "from sklearn.model_selection import cross_val_score, StratifiedKFold\n",
    "from sklearn.model_selection import GridSearchCV\n",
    "from sklearn.pipeline import Pipeline\n",
    "from sklearn.metrics import confusion_matrix, ConfusionMatrixDisplay\n",
    "import matplotlib.pyplot as plt\n",
    "from sklearn.preprocessing import StandardScaler\n",
    "from sklearn.neighbors import KNeighborsClassifier\n",
    "from xgboost import XGBClassifier\n",
    "from sklearn.ensemble import RandomForestClassifier\n",
    "import torch\n",
    "#from transformers import BertTokenizer, BertForSequenceClassification\n",
    "from torch.utils.data import DataLoader, Dataset\n",
    "#from transformers import AdamW\n",
    "from sklearn.model_selection import train_test_split\n",
    "from sklearn.metrics import accuracy_score, classification_report\n",
    "from sklearn.neural_network import MLPClassifier\n",
    "from sklearn.preprocessing import LabelEncoder\n",
    "from sklearn.metrics import balanced_accuracy_score\n"
   ]
  },
  {
   "cell_type": "code",
   "execution_count": 2,
   "id": "bb2511d5-eb3f-4768-a864-ae2dbcfd77ae",
   "metadata": {},
   "outputs": [
    {
     "name": "stdout",
     "output_type": "stream",
     "text": [
      "(12418, 6) (5478, 6) (6940, 6)\n"
     ]
    }
   ],
   "source": [
    "# read data with user observations\n",
    "data = pd.read_csv('data/weather_data_with_user_text_new_observer.csv')\n",
    "data['date'] = pd.to_datetime(data['date'])\n",
    "\n",
    "# Split the original data into two parts\n",
    "train = data[data['date'] <= '1995-09-30']\n",
    "test = data[data['date'] > '1995-09-30']\n",
    "\n",
    "print(data.shape, train.shape, test.shape)\n"
   ]
  },
  {
   "cell_type": "code",
   "execution_count": 3,
   "id": "77c02e63-4dc3-4dbf-95cb-c55a97fbbd65",
   "metadata": {},
   "outputs": [
    {
     "name": "stdout",
     "output_type": "stream",
     "text": [
      "labels count in train data\n",
      "\n",
      " weather_label\n",
      "dry              4144\n",
      "normal            813\n",
      "wet               521\n",
      "dtype: int64\n",
      "\n",
      "labels count in test data\n",
      "\n",
      " weather_label\n",
      "dry              5164\n",
      "normal           1053\n",
      "wet               723\n",
      "dtype: int64\n"
     ]
    }
   ],
   "source": [
    "train = train.copy()\n",
    "test = test.copy()\n",
    "\n",
    "def categorize_precipitation(prcp):\n",
    "    if prcp >= 11.4:\n",
    "        return 'wet'\n",
    "    elif prcp >= 4 and prcp < 11.4:\n",
    "        return 'normal'\n",
    "    else:\n",
    "        return 'dry'\n",
    "\n",
    "# create a new label column. True label of the sample\n",
    "train['weather_label'] = train['prcp(mm/day)'].apply(categorize_precipitation)\n",
    "test['weather_label'] = test['prcp(mm/day)'].apply(categorize_precipitation)\n",
    "\n",
    "nlp_data_train = train[['user_data', 'weather_label']]\n",
    "nlp_data_test = test[['user_data', 'weather_label']]\n",
    "\n",
    "print('labels count in train data\\n\\n',nlp_data_train[['weather_label']].value_counts())\n",
    "print('\\nlabels count in test data\\n\\n',nlp_data_test[['weather_label']].value_counts())"
   ]
  },
  {
   "cell_type": "code",
   "execution_count": 4,
   "id": "a5a6879c-9d01-46db-ab43-e172a454cf1e",
   "metadata": {},
   "outputs": [
    {
     "data": {
      "text/html": [
       "<div>\n",
       "<style scoped>\n",
       "    .dataframe tbody tr th:only-of-type {\n",
       "        vertical-align: middle;\n",
       "    }\n",
       "\n",
       "    .dataframe tbody tr th {\n",
       "        vertical-align: top;\n",
       "    }\n",
       "\n",
       "    .dataframe thead th {\n",
       "        text-align: right;\n",
       "    }\n",
       "</style>\n",
       "<table border=\"1\" class=\"dataframe\">\n",
       "  <thead>\n",
       "    <tr style=\"text-align: right;\">\n",
       "      <th></th>\n",
       "      <th>user_data</th>\n",
       "      <th>weather_label</th>\n",
       "    </tr>\n",
       "  </thead>\n",
       "  <tbody>\n",
       "    <tr>\n",
       "      <th>0</th>\n",
       "      <td>Not a drop of rain today; it feels like the ar...</td>\n",
       "      <td>dry</td>\n",
       "    </tr>\n",
       "    <tr>\n",
       "      <th>1</th>\n",
       "      <td>A decent rainfall that left the ground well-so...</td>\n",
       "      <td>dry</td>\n",
       "    </tr>\n",
       "    <tr>\n",
       "      <th>2</th>\n",
       "      <td>It rained quite heavily, leaving deep puddles ...</td>\n",
       "      <td>normal</td>\n",
       "    </tr>\n",
       "    <tr>\n",
       "      <th>3</th>\n",
       "      <td>It rained quite heavily, leaving deep puddles ...</td>\n",
       "      <td>wet</td>\n",
       "    </tr>\n",
       "    <tr>\n",
       "      <th>4</th>\n",
       "      <td>Some steady rain brought a refreshing feel to ...</td>\n",
       "      <td>dry</td>\n",
       "    </tr>\n",
       "    <tr>\n",
       "      <th>...</th>\n",
       "      <td>...</td>\n",
       "      <td>...</td>\n",
       "    </tr>\n",
       "    <tr>\n",
       "      <th>5473</th>\n",
       "      <td>Enough rain fell to give the plants a good dri...</td>\n",
       "      <td>dry</td>\n",
       "    </tr>\n",
       "    <tr>\n",
       "      <th>5474</th>\n",
       "      <td>A few sprinkles were enough to dampen the eart...</td>\n",
       "      <td>dry</td>\n",
       "    </tr>\n",
       "    <tr>\n",
       "      <th>5475</th>\n",
       "      <td>A strong rainfall today, making the landscape ...</td>\n",
       "      <td>normal</td>\n",
       "    </tr>\n",
       "    <tr>\n",
       "      <th>5476</th>\n",
       "      <td>Not a drop of rain today; it feels like the ar...</td>\n",
       "      <td>dry</td>\n",
       "    </tr>\n",
       "    <tr>\n",
       "      <th>5477</th>\n",
       "      <td>With no rain around, everything seems a bit du...</td>\n",
       "      <td>dry</td>\n",
       "    </tr>\n",
       "  </tbody>\n",
       "</table>\n",
       "<p>5478 rows × 2 columns</p>\n",
       "</div>"
      ],
      "text/plain": [
       "                                              user_data weather_label\n",
       "0     Not a drop of rain today; it feels like the ar...           dry\n",
       "1     A decent rainfall that left the ground well-so...           dry\n",
       "2     It rained quite heavily, leaving deep puddles ...        normal\n",
       "3     It rained quite heavily, leaving deep puddles ...           wet\n",
       "4     Some steady rain brought a refreshing feel to ...           dry\n",
       "...                                                 ...           ...\n",
       "5473  Enough rain fell to give the plants a good dri...           dry\n",
       "5474  A few sprinkles were enough to dampen the eart...           dry\n",
       "5475  A strong rainfall today, making the landscape ...        normal\n",
       "5476  Not a drop of rain today; it feels like the ar...           dry\n",
       "5477  With no rain around, everything seems a bit du...           dry\n",
       "\n",
       "[5478 rows x 2 columns]"
      ]
     },
     "execution_count": 4,
     "metadata": {},
     "output_type": "execute_result"
    }
   ],
   "source": [
    "nlp_data_train"
   ]
  },
  {
   "cell_type": "code",
   "execution_count": 5,
   "id": "c09a294b-2ad9-4e30-8ca3-16536faa599b",
   "metadata": {},
   "outputs": [],
   "source": [
    "nlp_data_train = nlp_data_train.copy()\n",
    "nlp_data_test = nlp_data_test.copy()\n",
    "\n",
    "# Split the original training data into train and test sets. This will used to train the ML models. only use original training data here\n",
    "X_train = nlp_data_train['user_data']\n",
    "X_test = nlp_data_test['user_data']\n",
    "Y_train = nlp_data_train['weather_label']\n",
    "Y_test = nlp_data_test['weather_label']\n",
    "\n",
    "# Encode labels\n",
    "encoder = LabelEncoder()\n",
    "Y_train = encoder.fit_transform(Y_train)  # dry -> 0, normal -> 1, wet -> 2\n",
    "Y_test = encoder.transform(Y_test)"
   ]
  },
  {
   "cell_type": "markdown",
   "id": "dd8089f8-248f-45b4-a79e-9f9520053dcb",
   "metadata": {},
   "source": [
    "## Logistic regresion"
   ]
  },
  {
   "cell_type": "code",
   "execution_count": 6,
   "id": "e2691561-a4a2-4a06-9310-cf5e89fe6ba6",
   "metadata": {},
   "outputs": [
    {
     "name": "stdout",
     "output_type": "stream",
     "text": [
      "Fitting 5 folds for each of 288 candidates, totalling 1440 fits\n",
      "Best Parameters: {'classifier__C': 1, 'classifier__max_iter': 150, 'classifier__penalty': 'l2', 'classifier__solver': 'liblinear', 'tfidf__max_features': 100, 'tfidf__ngram_range': (1, 1), 'tfidf__stop_words': 'english'}\n",
      "Best Cross-Validation Accuracy: 0.7034412193012232\n",
      "\n",
      "Train Accuracy: 0.7056149191974953\n",
      "\n",
      "Test Accuracy: 0.884149855907781\n",
      "\n",
      "Test balanced Accuracy: 0.7097937231584939\n",
      "\n",
      "Classification Report:\n",
      "               precision    recall  f1-score   support\n",
      "\n",
      "           0       1.00      0.97      0.99      5164\n",
      "           1       0.59      0.83      0.69      1053\n",
      "           2       0.54      0.33      0.41       723\n",
      "\n",
      "    accuracy                           0.88      6940\n",
      "   macro avg       0.71      0.71      0.69      6940\n",
      "weighted avg       0.89      0.88      0.88      6940\n",
      "\n"
     ]
    },
    {
     "data": {
      "image/png": "[encoded data removed]",
      "text/plain": [
       "<Figure size 432x288 with 2 Axes>"
      ]
     },
     "metadata": {
      "needs_background": "light"
     },
     "output_type": "display_data"
    }
   ],
   "source": [
    "pipeline = Pipeline([\n",
    "    ('tfidf', TfidfVectorizer()),\n",
    "    ('scaler', StandardScaler(with_mean=False)),\n",
    "    ('classifier', LogisticRegression())\n",
    "])\n",
    "\n",
    "# hyperparameters\n",
    "param_grid = {\n",
    "    'tfidf__max_features': [10, 50, 100],              \n",
    "    'tfidf__ngram_range': [(1, 1), (1, 2), (1, 3)],      \n",
    "    'tfidf__stop_words': [None, 'english'],   \n",
    "    'classifier__C': [0.1, 1, 10, 100],                     \n",
    "    'classifier__penalty': ['l2'],                          \n",
    "    'classifier__solver': ['lbfgs', 'liblinear'],\n",
    "    'classifier__max_iter': [150, 500]\n",
    "}\n",
    "\n",
    "grid_search = GridSearchCV(\n",
    "    pipeline, \n",
    "    param_grid, \n",
    "    cv=5, \n",
    "    scoring='balanced_accuracy', \n",
    "    verbose=1, \n",
    "    n_jobs=-1\n",
    ")\n",
    "\n",
    "grid_search.fit(X_train, Y_train)\n",
    "\n",
    "print(\"Best Parameters:\", grid_search.best_params_)\n",
    "print(\"Best Cross-Validation Accuracy:\", grid_search.best_score_)\n",
    "\n",
    "y_pred_train = grid_search.best_estimator_.predict(X_train)\n",
    "print(\"\\nTrain Accuracy:\", balanced_accuracy_score(Y_train, y_pred_train))\n",
    "\n",
    "y_pred = grid_search.best_estimator_.predict(X_test)\n",
    "print(\"\\nTest Accuracy:\", accuracy_score(Y_test, y_pred))\n",
    "print(\"\\nTest balanced Accuracy:\", balanced_accuracy_score(Y_test, y_pred))\n",
    "\n",
    "print(\"\\nClassification Report:\\n\", classification_report(Y_test, y_pred))\n",
    "\n",
    "cm = confusion_matrix(Y_test, y_pred)\n",
    "disp = ConfusionMatrixDisplay(confusion_matrix=cm, display_labels=grid_search.best_estimator_.named_steps['classifier'].classes_)\n",
    "disp.plot(cmap='Blues', values_format='d')\n",
    "plt.title('Confusion Matrix')\n",
    "plt.show()\n"
   ]
  },
  {
   "cell_type": "markdown",
   "id": "320b99a7-bc64-41a1-8d74-50ed4416cf02",
   "metadata": {},
   "source": [
    "## KNN classifier"
   ]
  },
  {
   "cell_type": "code",
   "execution_count": 7,
   "id": "48581a54-3dbb-4634-976a-82ae0db06f9b",
   "metadata": {
    "scrolled": true
   },
   "outputs": [
    {
     "name": "stdout",
     "output_type": "stream",
     "text": [
      "Fitting 5 folds for each of 180 candidates, totalling 900 fits\n",
      "Best Parameters: {'classifier__n_neighbors': 8, 'classifier__weights': 'distance', 'tfidf__max_features': 100, 'tfidf__ngram_range': (1, 2), 'tfidf__stop_words': 'english'}\n",
      "Best Cross-Validation Accuracy: 0.6876186981496366\n",
      "\n",
      "Train Accuracy: 0.7111212506523645\n",
      "\n",
      "Test Accuracy: 0.8717579250720461\n",
      "\n",
      "Test balanced Accuracy: 0.6944714471952017\n",
      "\n",
      "Classification Report:\n",
      "               precision    recall  f1-score   support\n",
      "\n",
      "           0       1.00      0.97      0.98      5164\n",
      "           1       0.58      0.73      0.64      1053\n",
      "           2       0.46      0.39      0.42       723\n",
      "\n",
      "    accuracy                           0.87      6940\n",
      "   macro avg       0.68      0.69      0.68      6940\n",
      "weighted avg       0.88      0.87      0.87      6940\n",
      "\n"
     ]
    },
    {
     "data": {
      "image/png": "[encoded data removed]",
      "text/plain": [
       "<Figure size 432x288 with 2 Axes>"
      ]
     },
     "metadata": {
      "needs_background": "light"
     },
     "output_type": "display_data"
    }
   ],
   "source": [
    "\n",
    "pipeline = Pipeline([\n",
    "    ('tfidf', TfidfVectorizer()),\n",
    "    ('scaler', StandardScaler(with_mean=False)),\n",
    "    ('classifier', KNeighborsClassifier())\n",
    "])\n",
    "\n",
    "param_grid = {\n",
    "    'tfidf__max_features': [10, 50, 100],              \n",
    "    'tfidf__ngram_range': [(1, 1), (1, 2), (1, 3)],       \n",
    "    'tfidf__stop_words': [None, 'english'],              \n",
    "    'classifier__n_neighbors': [2,4,5,8,10],                     \n",
    "    'classifier__weights': ['uniform', 'distance']\n",
    "}\n",
    "\n",
    "grid_search = GridSearchCV(\n",
    "    pipeline, \n",
    "    param_grid, \n",
    "    cv=5, \n",
    "    scoring='balanced_accuracy', \n",
    "    verbose=1, \n",
    "    n_jobs=-1\n",
    ")\n",
    "\n",
    "grid_search.fit(X_train, Y_train)\n",
    "\n",
    "print(\"Best Parameters:\", grid_search.best_params_)\n",
    "print(\"Best Cross-Validation Accuracy:\", grid_search.best_score_)\n",
    "\n",
    "y_pred_train = grid_search.best_estimator_.predict(X_train)\n",
    "print(\"\\nTrain Accuracy:\", balanced_accuracy_score(Y_train, y_pred_train))\n",
    "\n",
    "y_pred = grid_search.best_estimator_.predict(X_test)\n",
    "print(\"\\nTest Accuracy:\", accuracy_score(Y_test, y_pred))\n",
    "print(\"\\nTest balanced Accuracy:\", balanced_accuracy_score(Y_test, y_pred))\n",
    "\n",
    "print(\"\\nClassification Report:\\n\", classification_report(Y_test, y_pred))\n",
    "\n",
    "cm = confusion_matrix(Y_test, y_pred)\n",
    "disp = ConfusionMatrixDisplay(confusion_matrix=cm, display_labels=grid_search.best_estimator_.named_steps['classifier'].classes_)\n",
    "disp.plot(cmap='Blues', values_format='d')\n",
    "plt.title('Confusion Matrix')\n",
    "plt.show()\n"
   ]
  },
  {
   "cell_type": "markdown",
   "id": "6de7c403-80c4-4922-9006-87a4e1d68798",
   "metadata": {},
   "source": [
    "## Random forest"
   ]
  },
  {
   "cell_type": "code",
   "execution_count": 8,
   "id": "8df63b4d-c273-4a46-b017-f13a03574fbe",
   "metadata": {
    "scrolled": true
   },
   "outputs": [
    {
     "name": "stdout",
     "output_type": "stream",
     "text": [
      "Fitting 5 folds for each of 72 candidates, totalling 360 fits\n",
      "Best Parameters: {'classifier__class_weight': 'balanced', 'classifier__n_estimators': 75, 'tfidf__max_features': 100, 'tfidf__ngram_range': (1, 2), 'tfidf__stop_words': None}\n",
      "Best Cross-Validation Accuracy: 0.7139399515518301\n",
      "\n",
      "Train Accuracy: 0.7433549703024208\n",
      "\n",
      "Test Accuracy: 0.8698847262247839\n",
      "\n",
      "Test balanced Accuracy: 0.707496394443461\n",
      "\n",
      "Classification Report:\n",
      "               precision    recall  f1-score   support\n",
      "\n",
      "           0       1.00      0.97      0.99      5164\n",
      "           1       0.60      0.54      0.57      1053\n",
      "           2       0.45      0.61      0.52       723\n",
      "\n",
      "    accuracy                           0.87      6940\n",
      "   macro avg       0.69      0.71      0.69      6940\n",
      "weighted avg       0.88      0.87      0.87      6940\n",
      "\n"
     ]
    },
    {
     "data": {
      "image/png": "[encoded data removed]",
      "text/plain": [
       "<Figure size 432x288 with 2 Axes>"
      ]
     },
     "metadata": {
      "needs_background": "light"
     },
     "output_type": "display_data"
    }
   ],
   "source": [
    "pipeline = Pipeline([\n",
    "    ('tfidf', TfidfVectorizer()),\n",
    "    ('scaler', StandardScaler(with_mean=False)),\n",
    "    ('classifier', RandomForestClassifier())\n",
    "])\n",
    "\n",
    "param_grid = {\n",
    "    'tfidf__max_features': [10, 50, 100],             \n",
    "    'tfidf__ngram_range': [(1, 1), (1, 2), (1, 3)],     \n",
    "    'tfidf__stop_words': [None, 'english'],       \n",
    "    'classifier__n_estimators': [20, 50, 75, 100],                     \n",
    "    'classifier__class_weight': ['balanced']\n",
    "}\n",
    "\n",
    "grid_search = GridSearchCV(\n",
    "    pipeline, \n",
    "    param_grid, \n",
    "    cv=5, \n",
    "    scoring='balanced_accuracy', \n",
    "    verbose=1, \n",
    "    n_jobs=-1\n",
    ")\n",
    "\n",
    "grid_search.fit(X_train, Y_train)\n",
    "\n",
    "print(\"Best Parameters:\", grid_search.best_params_)\n",
    "print(\"Best Cross-Validation Accuracy:\", grid_search.best_score_)\n",
    "\n",
    "y_pred_train = grid_search.best_estimator_.predict(X_train)\n",
    "print(\"\\nTrain Accuracy:\", balanced_accuracy_score(Y_train, y_pred_train))\n",
    "\n",
    "y_pred = grid_search.best_estimator_.predict(X_test)\n",
    "print(\"\\nTest Accuracy:\", accuracy_score(Y_test, y_pred))\n",
    "print(\"\\nTest balanced Accuracy:\", balanced_accuracy_score(Y_test, y_pred))\n",
    "\n",
    "print(\"\\nClassification Report:\\n\", classification_report(Y_test, y_pred))\n",
    "\n",
    "cm = confusion_matrix(Y_test, y_pred)\n",
    "disp = ConfusionMatrixDisplay(confusion_matrix=cm, display_labels=grid_search.best_estimator_.named_steps['classifier'].classes_)\n",
    "disp.plot(cmap='Blues', values_format='d')\n",
    "plt.title('Confusion Matrix')\n",
    "plt.show()\n"
   ]
  },
  {
   "cell_type": "markdown",
   "id": "c72bc181-3a92-4409-858d-53fdf5f66d66",
   "metadata": {},
   "source": [
    "## XGBoost"
   ]
  },
  {
   "cell_type": "code",
   "execution_count": 9,
   "id": "e188efac-5103-45b1-886e-02636e580e93",
   "metadata": {},
   "outputs": [
    {
     "name": "stdout",
     "output_type": "stream",
     "text": [
      "Fitting 5 folds for each of 288 candidates, totalling 1440 fits\n"
     ]
    },
    {
     "name": "stderr",
     "output_type": "stream",
     "text": [
      "C:\\Users\\smpwi\\conda\\envs\\rrmpg\\lib\\site-packages\\xgboost\\sklearn.py:1224: UserWarning: The use of label encoder in XGBClassifier is deprecated and will be removed in a future release. To remove this warning, do the following: 1) Pass option use_label_encoder=False when constructing XGBClassifier object; and 2) Encode your labels (y) as integers starting with 0, i.e. 0, 1, 2, ..., [num_class - 1].\n",
      "  warnings.warn(label_encoder_deprecation_msg, UserWarning)\n"
     ]
    },
    {
     "name": "stdout",
     "output_type": "stream",
     "text": [
      "[21:18:11] WARNING: C:/Users/Administrator/workspace/xgboost-win64_release_1.5.1/src/learner.cc:1115: Starting in XGBoost 1.3.0, the default evaluation metric used with the objective 'multi:softprob' was changed from 'merror' to 'mlogloss'. Explicitly set eval_metric if you'd like to restore the old behavior.\n",
      "Best Parameters: {'classifier__learning_rate': 0.1, 'classifier__n_estimators': 75, 'classifier__objective': 'multi:softmax', 'tfidf__max_features': 100, 'tfidf__ngram_range': (1, 1), 'tfidf__stop_words': None}\n",
      "Best Cross-Validation Accuracy: 0.6998237333763073\n",
      "\n",
      "Train Accuracy: 0.7162301693039311\n",
      "\n",
      "Test Accuracy: 0.8827089337175793\n",
      "\n",
      "Test balanced Accuracy: 0.7073505948509119\n",
      "\n",
      "Classification Report:\n",
      "               precision    recall  f1-score   support\n",
      "\n",
      "           0       1.00      0.97      0.99      5164\n",
      "           1       0.59      0.81      0.68      1053\n",
      "           2       0.53      0.33      0.41       723\n",
      "\n",
      "    accuracy                           0.88      6940\n",
      "   macro avg       0.71      0.71      0.69      6940\n",
      "weighted avg       0.89      0.88      0.88      6940\n",
      "\n"
     ]
    },
    {
     "data": {
      "image/png": "[encoded data removed]",
      "text/plain": [
       "<Figure size 432x288 with 2 Axes>"
      ]
     },
     "metadata": {
      "needs_background": "light"
     },
     "output_type": "display_data"
    }
   ],
   "source": [
    "pipeline = Pipeline([\n",
    "    ('tfidf', TfidfVectorizer()),\n",
    "    ('scaler', StandardScaler(with_mean=False)),\n",
    "    ('classifier', XGBClassifier())\n",
    "])\n",
    "\n",
    "param_grid = {\n",
    "    'tfidf__max_features': [10, 50, 100],              \n",
    "    'tfidf__ngram_range': [(1, 1), (1, 2), (1, 3)],      \n",
    "    'tfidf__stop_words': [None, 'english'],           \n",
    "    'classifier__n_estimators': [20, 50, 75, 100],                    \n",
    "    'classifier__learning_rate': [0.01, 0.1, 0.2, 0.001],\n",
    "    'classifier__objective': ['multi:softmax']\n",
    "}\n",
    "\n",
    "# Perform grid search with 5-fold cross-validation\n",
    "grid_search = GridSearchCV(\n",
    "    pipeline, \n",
    "    param_grid, \n",
    "    cv=5, \n",
    "    scoring='balanced_accuracy', \n",
    "    verbose=1, \n",
    "    n_jobs=-1\n",
    ")\n",
    "\n",
    "grid_search.fit(X_train, Y_train)\n",
    "\n",
    "print(\"Best Parameters:\", grid_search.best_params_)\n",
    "print(\"Best Cross-Validation Accuracy:\", grid_search.best_score_)\n",
    "\n",
    "y_pred_train = grid_search.best_estimator_.predict(X_train)\n",
    "print(\"\\nTrain Accuracy:\", balanced_accuracy_score(Y_train, y_pred_train))\n",
    "\n",
    "\n",
    "y_pred = grid_search.best_estimator_.predict(X_test)\n",
    "print(\"\\nTest Accuracy:\", accuracy_score(Y_test, y_pred))\n",
    "print(\"\\nTest balanced Accuracy:\", balanced_accuracy_score(Y_test, y_pred))\n",
    "\n",
    "print(\"\\nClassification Report:\\n\", classification_report(Y_test, y_pred))\n",
    "\n",
    "cm = confusion_matrix(Y_test, y_pred)\n",
    "disp = ConfusionMatrixDisplay(confusion_matrix=cm, display_labels=grid_search.best_estimator_.named_steps['classifier'].classes_)\n",
    "disp.plot(cmap='Blues', values_format='d')\n",
    "plt.title('Confusion Matrix')\n",
    "plt.show()\n"
   ]
  },
  {
   "cell_type": "markdown",
   "id": "a179a183-a5ad-4132-9a27-b25d5dce6f68",
   "metadata": {},
   "source": [
    "## MLP classifier"
   ]
  },
  {
   "cell_type": "code",
   "execution_count": 10,
   "id": "1f48da14-a5fc-4aed-a8d2-168c39ccfe89",
   "metadata": {},
   "outputs": [
    {
     "name": "stdout",
     "output_type": "stream",
     "text": [
      "Fitting 5 folds for each of 288 candidates, totalling 1440 fits\n"
     ]
    },
    {
     "name": "stderr",
     "output_type": "stream",
     "text": [
      "C:\\Users\\smpwi\\conda\\envs\\rrmpg\\lib\\site-packages\\sklearn\\neural_network\\_multilayer_perceptron.py:617: ConvergenceWarning: Stochastic Optimizer: Maximum iterations (100) reached and the optimization hasn't converged yet.\n",
      "  % self.max_iter, ConvergenceWarning)\n"
     ]
    },
    {
     "name": "stdout",
     "output_type": "stream",
     "text": [
      "Best Parameters: {'classifier__hidden_layer_sizes': (64,), 'classifier__max_iter': 100, 'tfidf__max_features': 50, 'tfidf__ngram_range': (1, 3), 'tfidf__stop_words': None}\n",
      "Best Cross-Validation Accuracy: 0.7058416463880853\n",
      "\n",
      "Train Accuracy: 0.7191182979932794\n",
      "\n",
      "Test Accuracy: 0.8809798270893372\n",
      "\n",
      "Test balanced Accuracy: 0.7032629522201618\n",
      "\n",
      "Classification Report:\n",
      "               precision    recall  f1-score   support\n",
      "\n",
      "           0       1.00      0.97      0.99      5164\n",
      "           1       0.59      0.80      0.68      1053\n",
      "           2       0.51      0.33      0.40       723\n",
      "\n",
      "    accuracy                           0.88      6940\n",
      "   macro avg       0.70      0.70      0.69      6940\n",
      "weighted avg       0.89      0.88      0.88      6940\n",
      "\n"
     ]
    },
    {
     "data": {
      "image/png": "[encoded data removed]",
      "text/plain": [
       "<Figure size 432x288 with 2 Axes>"
      ]
     },
     "metadata": {
      "needs_background": "light"
     },
     "output_type": "display_data"
    }
   ],
   "source": [
    "\n",
    "pipeline = Pipeline([\n",
    "    ('tfidf', TfidfVectorizer()),\n",
    "    ('scaler', StandardScaler(with_mean=False)),\n",
    "    ('classifier', MLPClassifier())\n",
    "])\n",
    "\n",
    "param_grid = {\n",
    "    'tfidf__max_features': [10, 50, 100],              \n",
    "    'tfidf__ngram_range': [(1, 1), (1, 2), (1, 3)],       \n",
    "    'tfidf__stop_words': [None, 'english'],           \n",
    "    'classifier__hidden_layer_sizes': [(32,16), (32,), (64,32), (64,)],                     \n",
    "    'classifier__max_iter': [100, 500, 1000, 10000]\n",
    "}\n",
    "\n",
    "grid_search = GridSearchCV(\n",
    "    pipeline, \n",
    "    param_grid, \n",
    "    cv=5, \n",
    "    scoring='balanced_accuracy', \n",
    "    verbose=1, \n",
    "    n_jobs=-1\n",
    ")\n",
    "\n",
    "grid_search.fit(X_train, Y_train)\n",
    "\n",
    "print(\"Best Parameters:\", grid_search.best_params_)\n",
    "print(\"Best Cross-Validation Accuracy:\", grid_search.best_score_)\n",
    "\n",
    "y_pred_train = grid_search.best_estimator_.predict(X_train)\n",
    "print(\"\\nTrain Accuracy:\", balanced_accuracy_score(Y_train, y_pred_train))\n",
    "\n",
    "y_pred = grid_search.best_estimator_.predict(X_test)\n",
    "print(\"\\nTest Accuracy:\", accuracy_score(Y_test, y_pred))\n",
    "print(\"\\nTest balanced Accuracy:\", balanced_accuracy_score(Y_test, y_pred))\n",
    "\n",
    "print(\"\\nClassification Report:\\n\", classification_report(Y_test, y_pred))\n",
    "\n",
    "cm = confusion_matrix(Y_test, y_pred)\n",
    "disp = ConfusionMatrixDisplay(confusion_matrix=cm, display_labels=grid_search.best_estimator_.named_steps['classifier'].classes_)\n",
    "disp.plot(cmap='Blues', values_format='d')\n",
    "plt.title('Confusion Matrix')\n",
    "plt.show()\n"
   ]
  },
  {
   "cell_type": "code",
   "execution_count": null,
   "id": "87d162e8-3fca-4b47-9651-4244fd086893",
   "metadata": {},
   "outputs": [],
   "source": []
  },
  {
   "cell_type": "code",
   "execution_count": null,
   "id": "82809f9e-ed02-475a-a7e7-743496f6cfc0",
   "metadata": {},
   "outputs": [],
   "source": []
  }
 ],
 "metadata": {
  "kernelspec": {
   "display_name": "Python 3",
   "language": "python",
   "name": "python3"
  },
  "language_info": {
   "codemirror_mode": {
    "name": "ipython",
    "version": 3
   },
   "file_extension": ".py",
   "mimetype": "text/x-python",
   "name": "python",
   "nbconvert_exporter": "python",
   "pygments_lexer": "ipython3",
   "version": "3.6.13"
  }
 },
 "nbformat": 4,
 "nbformat_minor": 5
}
